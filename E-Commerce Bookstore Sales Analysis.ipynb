{
 "cells": [
  {
   "cell_type": "markdown",
   "id": "d7c33b0c",
   "metadata": {},
   "source": [
    "# E-Commerce Bookstore Sales Analysis "
   ]
  },
  {
   "cell_type": "code",
   "execution_count": 43,
   "id": "999a1a44",
   "metadata": {},
   "outputs": [
    {
     "data": {
      "text/html": [
       "<div>\n",
       "<style scoped>\n",
       "    .dataframe tbody tr th:only-of-type {\n",
       "        vertical-align: middle;\n",
       "    }\n",
       "\n",
       "    .dataframe tbody tr th {\n",
       "        vertical-align: top;\n",
       "    }\n",
       "\n",
       "    .dataframe thead th {\n",
       "        text-align: right;\n",
       "    }\n",
       "</style>\n",
       "<table border=\"1\" class=\"dataframe\">\n",
       "  <thead>\n",
       "    <tr style=\"text-align: right;\">\n",
       "      <th></th>\n",
       "      <th>name</th>\n",
       "    </tr>\n",
       "  </thead>\n",
       "  <tbody>\n",
       "    <tr>\n",
       "      <th>0</th>\n",
       "      <td>Books</td>\n",
       "    </tr>\n",
       "    <tr>\n",
       "      <th>1</th>\n",
       "      <td>Customers</td>\n",
       "    </tr>\n",
       "    <tr>\n",
       "      <th>2</th>\n",
       "      <td>Purchases</td>\n",
       "    </tr>\n",
       "  </tbody>\n",
       "</table>\n",
       "</div>"
      ],
      "text/plain": [
       "        name\n",
       "0      Books\n",
       "1  Customers\n",
       "2  Purchases"
      ]
     },
     "execution_count": 43,
     "metadata": {},
     "output_type": "execute_result"
    }
   ],
   "source": [
    "import sqlite3, pandas as pd\n",
    "import matplotlib.pyplot as plt\n",
    "\n",
    "conn = sqlite3.connect(\"Book_Nook_New.db\")\n",
    "\n",
    "with open(\"Book_Nook_New.db.sql\", \"r\") as f:\n",
    "    conn.executescript(f.read())\n",
    "\n",
    "# Test that the new database now works\n",
    "pd.read_sql_query(\"SELECT name FROM sqlite_master WHERE type='table';\", conn)"
   ]
  },
  {
   "cell_type": "markdown",
   "id": "892db592",
   "metadata": {},
   "source": [
    "During my initial setup where I wanted to connect to the database, I recieved an error: `DatabaseError: file is not a database`. \n",
    "\n",
    "It took me a while to figure out what the issue was because my database was in the correct folder, the file was not corrupted or had specific persmission on it. After troubleshooting, I realized that the file's format was not an actual SQLite file (this is what it was: `ASCII text`) even though it opened in DB Browser for SQLite. \n",
    "\n",
    "I had to re-save the file which was initially called `Book_Nook_Updated.db` and create a new database called `Book_Nook_New.db`, import it again, and make sure that it was able to connect in Jupyter Notebooks.\n",
    "\n",
    "Finally, I was able to connect to my database, and the list of the tables confirms that: `Books`, `Customers`, and `Purchases`. Now that it is connected, I can begin exploring and querying the data directly here in Jupyter. "
   ]
  },
  {
   "cell_type": "markdown",
   "id": "f9a76bfc",
   "metadata": {},
   "source": [
    "## Analyzing the Data Structure"
   ]
  },
  {
   "cell_type": "code",
   "execution_count": 23,
   "id": "3ff28ed9",
   "metadata": {},
   "outputs": [
    {
     "data": {
      "text/html": [
       "<div>\n",
       "<style scoped>\n",
       "    .dataframe tbody tr th:only-of-type {\n",
       "        vertical-align: middle;\n",
       "    }\n",
       "\n",
       "    .dataframe tbody tr th {\n",
       "        vertical-align: top;\n",
       "    }\n",
       "\n",
       "    .dataframe thead th {\n",
       "        text-align: right;\n",
       "    }\n",
       "</style>\n",
       "<table border=\"1\" class=\"dataframe\">\n",
       "  <thead>\n",
       "    <tr style=\"text-align: right;\">\n",
       "      <th></th>\n",
       "      <th>Book_ID</th>\n",
       "      <th>Title</th>\n",
       "      <th>Author</th>\n",
       "      <th>Genre</th>\n",
       "      <th>Published_Year</th>\n",
       "      <th>Page_Count</th>\n",
       "      <th>Format</th>\n",
       "      <th>Price</th>\n",
       "    </tr>\n",
       "  </thead>\n",
       "  <tbody>\n",
       "    <tr>\n",
       "      <th>0</th>\n",
       "      <td>1</td>\n",
       "      <td>First-Time Caller (Heartstrings, #1)</td>\n",
       "      <td>B.K. Borison</td>\n",
       "      <td>Romance</td>\n",
       "      <td>2025</td>\n",
       "      <td>448</td>\n",
       "      <td>Paperback</td>\n",
       "      <td>8.87</td>\n",
       "    </tr>\n",
       "    <tr>\n",
       "      <th>1</th>\n",
       "      <td>2</td>\n",
       "      <td>The Coven (Coven of Bones, #1)</td>\n",
       "      <td>Harper L. Woods</td>\n",
       "      <td>Paranormal Romance</td>\n",
       "      <td>2023</td>\n",
       "      <td>298</td>\n",
       "      <td>eBook</td>\n",
       "      <td>7.33</td>\n",
       "    </tr>\n",
       "    <tr>\n",
       "      <th>2</th>\n",
       "      <td>3</td>\n",
       "      <td>My Funny Demon Valentine (Hell Bent, #1)</td>\n",
       "      <td>Aurora Ascher</td>\n",
       "      <td>Paranormal Romance</td>\n",
       "      <td>2021</td>\n",
       "      <td>360</td>\n",
       "      <td>eBook</td>\n",
       "      <td>8.73</td>\n",
       "    </tr>\n",
       "    <tr>\n",
       "      <th>3</th>\n",
       "      <td>4</td>\n",
       "      <td>The Carver (Fifth Republic #2)</td>\n",
       "      <td>Penelope Sky</td>\n",
       "      <td>Dark Romance</td>\n",
       "      <td>2025</td>\n",
       "      <td>318</td>\n",
       "      <td>eBook</td>\n",
       "      <td>20.07</td>\n",
       "    </tr>\n",
       "    <tr>\n",
       "      <th>4</th>\n",
       "      <td>5</td>\n",
       "      <td>The Butcher (Fifth Republic, #1)</td>\n",
       "      <td>Penelope Sky</td>\n",
       "      <td>Dark Romance</td>\n",
       "      <td>2025</td>\n",
       "      <td>302</td>\n",
       "      <td>eBook</td>\n",
       "      <td>9.53</td>\n",
       "    </tr>\n",
       "  </tbody>\n",
       "</table>\n",
       "</div>"
      ],
      "text/plain": [
       "   Book_ID                                     Title           Author  \\\n",
       "0        1      First-Time Caller (Heartstrings, #1)     B.K. Borison   \n",
       "1        2            The Coven (Coven of Bones, #1)  Harper L. Woods   \n",
       "2        3  My Funny Demon Valentine (Hell Bent, #1)    Aurora Ascher   \n",
       "3        4            The Carver (Fifth Republic #2)     Penelope Sky   \n",
       "4        5          The Butcher (Fifth Republic, #1)     Penelope Sky   \n",
       "\n",
       "                Genre  Published_Year  Page_Count     Format  Price  \n",
       "0             Romance            2025         448  Paperback   8.87  \n",
       "1  Paranormal Romance            2023         298      eBook   7.33  \n",
       "2  Paranormal Romance            2021         360      eBook   8.73  \n",
       "3        Dark Romance            2025         318      eBook  20.07  \n",
       "4        Dark Romance            2025         302      eBook   9.53  "
      ]
     },
     "execution_count": 23,
     "metadata": {},
     "output_type": "execute_result"
    }
   ],
   "source": [
    "pd.read_sql_query(\"\"\"\n",
    "    \n",
    "SELECT * \n",
    "FROM Books \n",
    "LIMIT 5;\n",
    "    \n",
    "\"\"\", conn)"
   ]
  },
  {
   "cell_type": "markdown",
   "id": "24807ea6",
   "metadata": {},
   "source": [
    "I am treating this like real-world data and as if I have not seen this data before. The first thing to do is to understand and analyze the structure of the data for each table. \n",
    "\n",
    "This will help me understand the relationships between the tables, confirm column names, the data types that are in each column, and confirm that the data loaded correctly after having to re-save and importing the database.\n",
    "\n",
    "The `Books` table contains details about each book in the inventory, including:\n",
    "- `book_id` which is the unique identifier, `title`, `author`, `genre`, `format`, `price` and `publication_year`\n",
    "\n",
    "The first five rows of data confirms that the data loaded successfully and the fields match the expected schema."
   ]
  },
  {
   "cell_type": "code",
   "execution_count": 70,
   "id": "71bc8383",
   "metadata": {},
   "outputs": [
    {
     "data": {
      "text/html": [
       "<div>\n",
       "<style scoped>\n",
       "    .dataframe tbody tr th:only-of-type {\n",
       "        vertical-align: middle;\n",
       "    }\n",
       "\n",
       "    .dataframe tbody tr th {\n",
       "        vertical-align: top;\n",
       "    }\n",
       "\n",
       "    .dataframe thead th {\n",
       "        text-align: right;\n",
       "    }\n",
       "</style>\n",
       "<table border=\"1\" class=\"dataframe\">\n",
       "  <thead>\n",
       "    <tr style=\"text-align: right;\">\n",
       "      <th></th>\n",
       "      <th>Customer_ID</th>\n",
       "      <th>First_Name</th>\n",
       "      <th>Last_Name</th>\n",
       "      <th>Email</th>\n",
       "      <th>Phone_Number</th>\n",
       "      <th>Age</th>\n",
       "      <th>Gender</th>\n",
       "      <th>State</th>\n",
       "    </tr>\n",
       "  </thead>\n",
       "  <tbody>\n",
       "    <tr>\n",
       "      <th>0</th>\n",
       "      <td>1</td>\n",
       "      <td>Kathleen</td>\n",
       "      <td>Adams</td>\n",
       "      <td>kathleenadams44@gmail.com</td>\n",
       "      <td>472-752-4972</td>\n",
       "      <td>48</td>\n",
       "      <td>Female</td>\n",
       "      <td>VT</td>\n",
       "    </tr>\n",
       "    <tr>\n",
       "      <th>1</th>\n",
       "      <td>2</td>\n",
       "      <td>Marcia</td>\n",
       "      <td>Sanchez</td>\n",
       "      <td>marciasanchez20@gmail.com</td>\n",
       "      <td>651-424-4676</td>\n",
       "      <td>53</td>\n",
       "      <td>Female</td>\n",
       "      <td>UT</td>\n",
       "    </tr>\n",
       "    <tr>\n",
       "      <th>2</th>\n",
       "      <td>3</td>\n",
       "      <td>John</td>\n",
       "      <td>Waller</td>\n",
       "      <td>johnwaller29@gmail.com</td>\n",
       "      <td>455-945-2613</td>\n",
       "      <td>38</td>\n",
       "      <td>Male</td>\n",
       "      <td>MN</td>\n",
       "    </tr>\n",
       "    <tr>\n",
       "      <th>3</th>\n",
       "      <td>4</td>\n",
       "      <td>Bradley</td>\n",
       "      <td>Stewart</td>\n",
       "      <td>bradleystewart34@gmail.com</td>\n",
       "      <td>170-985-6389</td>\n",
       "      <td>75</td>\n",
       "      <td>Male</td>\n",
       "      <td>RI</td>\n",
       "    </tr>\n",
       "    <tr>\n",
       "      <th>4</th>\n",
       "      <td>5</td>\n",
       "      <td>Megan</td>\n",
       "      <td>Miller</td>\n",
       "      <td>meganmiller91@gmail.com</td>\n",
       "      <td>191-165-6476</td>\n",
       "      <td>59</td>\n",
       "      <td>Female</td>\n",
       "      <td>VT</td>\n",
       "    </tr>\n",
       "  </tbody>\n",
       "</table>\n",
       "</div>"
      ],
      "text/plain": [
       "   Customer_ID First_Name Last_Name                       Email  Phone_Number  \\\n",
       "0            1   Kathleen     Adams   kathleenadams44@gmail.com  472-752-4972   \n",
       "1            2     Marcia   Sanchez   marciasanchez20@gmail.com  651-424-4676   \n",
       "2            3       John    Waller      johnwaller29@gmail.com  455-945-2613   \n",
       "3            4    Bradley   Stewart  bradleystewart34@gmail.com  170-985-6389   \n",
       "4            5      Megan    Miller     meganmiller91@gmail.com  191-165-6476   \n",
       "\n",
       "   Age  Gender State  \n",
       "0   48  Female    VT  \n",
       "1   53  Female    UT  \n",
       "2   38    Male    MN  \n",
       "3   75    Male    RI  \n",
       "4   59  Female    VT  "
      ]
     },
     "execution_count": 70,
     "metadata": {},
     "output_type": "execute_result"
    }
   ],
   "source": [
    "pd.read_sql_query(\"\"\"\n",
    "   \n",
    "SELECT * \n",
    "FROM Customers \n",
    "LIMIT 5;\n",
    "   \n",
    "\"\"\", conn)"
   ]
  },
  {
   "cell_type": "markdown",
   "id": "bc9456c4",
   "metadata": {},
   "source": [
    "The Customers table includes: `Customer_ID`, `first_name`, `last_name`, `email`, `phone_number`, `age`, `gender`, and `state`. \n",
    "\n",
    "This table will be used to analyze purchase trends by customer or state."
   ]
  },
  {
   "cell_type": "code",
   "execution_count": 68,
   "id": "f8bf0951",
   "metadata": {},
   "outputs": [
    {
     "data": {
      "text/html": [
       "<div>\n",
       "<style scoped>\n",
       "    .dataframe tbody tr th:only-of-type {\n",
       "        vertical-align: middle;\n",
       "    }\n",
       "\n",
       "    .dataframe tbody tr th {\n",
       "        vertical-align: top;\n",
       "    }\n",
       "\n",
       "    .dataframe thead th {\n",
       "        text-align: right;\n",
       "    }\n",
       "</style>\n",
       "<table border=\"1\" class=\"dataframe\">\n",
       "  <thead>\n",
       "    <tr style=\"text-align: right;\">\n",
       "      <th></th>\n",
       "      <th>Purchase_ID</th>\n",
       "      <th>Customer_ID</th>\n",
       "      <th>Book_ID</th>\n",
       "      <th>Quantity</th>\n",
       "      <th>Purchased_Date</th>\n",
       "      <th>Total_Amount</th>\n",
       "    </tr>\n",
       "  </thead>\n",
       "  <tbody>\n",
       "    <tr>\n",
       "      <th>0</th>\n",
       "      <td>1</td>\n",
       "      <td>23</td>\n",
       "      <td>1</td>\n",
       "      <td>3</td>\n",
       "      <td>2025-01-26</td>\n",
       "      <td>26.61</td>\n",
       "    </tr>\n",
       "    <tr>\n",
       "      <th>1</th>\n",
       "      <td>2</td>\n",
       "      <td>24</td>\n",
       "      <td>64</td>\n",
       "      <td>1</td>\n",
       "      <td>2025-02-25</td>\n",
       "      <td>25.63</td>\n",
       "    </tr>\n",
       "    <tr>\n",
       "      <th>2</th>\n",
       "      <td>3</td>\n",
       "      <td>33</td>\n",
       "      <td>103</td>\n",
       "      <td>3</td>\n",
       "      <td>2025-05-13</td>\n",
       "      <td>66.57</td>\n",
       "    </tr>\n",
       "    <tr>\n",
       "      <th>3</th>\n",
       "      <td>4</td>\n",
       "      <td>44</td>\n",
       "      <td>110</td>\n",
       "      <td>2</td>\n",
       "      <td>2025-06-22</td>\n",
       "      <td>45.28</td>\n",
       "    </tr>\n",
       "    <tr>\n",
       "      <th>4</th>\n",
       "      <td>5</td>\n",
       "      <td>34</td>\n",
       "      <td>88</td>\n",
       "      <td>2</td>\n",
       "      <td>2025-01-03</td>\n",
       "      <td>18.88</td>\n",
       "    </tr>\n",
       "  </tbody>\n",
       "</table>\n",
       "</div>"
      ],
      "text/plain": [
       "   Purchase_ID  Customer_ID  Book_ID  Quantity Purchased_Date  Total_Amount\n",
       "0            1           23        1         3     2025-01-26         26.61\n",
       "1            2           24       64         1     2025-02-25         25.63\n",
       "2            3           33      103         3     2025-05-13         66.57\n",
       "3            4           44      110         2     2025-06-22         45.28\n",
       "4            5           34       88         2     2025-01-03         18.88"
      ]
     },
     "execution_count": 68,
     "metadata": {},
     "output_type": "execute_result"
    }
   ],
   "source": [
    "pd.read_sql_query(\"\"\"\n",
    "   \n",
    "SELECT * \n",
    "FROM Purchases\n",
    "LIMIT 5;\n",
    "    \n",
    "\"\"\", conn)"
   ]
  },
  {
   "cell_type": "markdown",
   "id": "b76c5acc",
   "metadata": {},
   "source": [
    "The Purchases table connects the Books and Customers table through the columns: `purchase_id`, `customers_id`, and `book_id`."
   ]
  },
  {
   "cell_type": "markdown",
   "id": "60971718",
   "metadata": {},
   "source": [
    "## Cleaning the Data"
   ]
  },
  {
   "cell_type": "markdown",
   "id": "c212fb47",
   "metadata": {},
   "source": [
    "Before analyzing the data, I will perform a series of validations to make sure the database is clean and consistent.\n",
    "\n",
    "This version of my database is clean and does not include any discrepancies, I created a separate SQL file that contains intentional discrepancies that could be run independently to introduce data issues such as: \n",
    "- duplicate book titles\n",
    "- null genre \n",
    "- null location for customers \n",
    "- null emails for customers\n",
    "- duplicate customers\n",
    "\n",
    "**Checking for Discrepancies**\n",
    "\n",
    "If I am treating this as real-world data, I would write queries to check and make sure everything is clean and accurate. The following queries are examples of a few validation checks used to detect issues such as null and duplicate data:"
   ]
  },
  {
   "cell_type": "markdown",
   "id": "95b35d30",
   "metadata": {},
   "source": [
    "**Checking if there are null values:**\n",
    "\n",
    "    SELECT * \n",
    "    FROM Books \n",
    "    WHERE Author IS NULL;\n",
    "\n",
    "If I don't want to write separate queries to see if each column in the table is NULL, I can write the query like this: \n",
    "\n",
    "    SELECT * \n",
    "    FROM Books \n",
    "    WHERE Author IS NULL\n",
    "    OR Title IS NULL\n",
    "    OR Genre IS NULL\n",
    "    OR Format IS NULL\n",
    "    OR Price IS NULL;\n",
    "\n",
    "\n",
    "**Checking if there are duplicate titles** \n",
    "\n",
    "    SELECT Title COUNT(*) AS duplicate_title\n",
    "    FROM Books\n",
    "    GROUP BY title \n",
    "    HAVING duplicate_title > 1;\n",
    "\n",
    "\n",
    "**Checking if the prices are in correct format (no negative pricing or 0)**\n",
    "\n",
    "    SELECT * \n",
    "    FROM Books\n",
    "    WHERE price is <= 0;\n",
    "\n",
    "These are just some instances I would check for to make sure there are no discrepanicies. But others I would also check for would be whether the email formatting for customers are consistent, the format of the books are consistent in spelling, the book publication year date is within the correct range and formatted properly, and making sure every book purchased is connected to a valid customer and book.\n",
    "\n",
    "After confirming that the database is free from missing values, duplicates, and invalid entries, the next step is to explore what the data can tell us.  \n",
    "\n",
    "The following section uses SQL queries to analyze sales trends, customer behavior, and revenue performance across genres and formats."
   ]
  },
  {
   "cell_type": "markdown",
   "id": "28cc20f9",
   "metadata": {},
   "source": [
    "## Analyzing the Data"
   ]
  },
  {
   "cell_type": "markdown",
   "id": "5822f6af",
   "metadata": {},
   "source": [
    "To understand the data that I am looking at, I need to be aware of the key business questions the bookstore is\n",
    "trying to address. \n",
    "\n",
    "Here is the problem the bookstore is trying to address: \n",
    "    \n",
    "A local online bookstore noticed stagnant sales growth and declining engagement among repeat customers. They wanted \n",
    "to understand which genres and authors drive the most purchases, how different book formats \n",
    "perform (paperback, eBook, hardcover), and how customer preferences shift over time.\n",
    "\n",
    "The analysis is centered around the following objectives: \n",
    "- Identify the genres and authors driving the most sales and revenue.  \n",
    "- Compare performance across book formats.  \n",
    "- Examine customer purchasing trends and engagement over time.  \n",
    "- Highlight insights that can guide decisions on pricing, marketing, and inventory."
   ]
  },
  {
   "cell_type": "markdown",
   "id": "4e02686f",
   "metadata": {},
   "source": [
    "## Question #1: Which genres generate the highest revenue and purchase volume?\n",
    "    "
   ]
  },
  {
   "cell_type": "code",
   "execution_count": 174,
   "id": "2cdca723",
   "metadata": {},
   "outputs": [
    {
     "data": {
      "text/html": [
       "<div>\n",
       "<style scoped>\n",
       "    .dataframe tbody tr th:only-of-type {\n",
       "        vertical-align: middle;\n",
       "    }\n",
       "\n",
       "    .dataframe tbody tr th {\n",
       "        vertical-align: top;\n",
       "    }\n",
       "\n",
       "    .dataframe thead th {\n",
       "        text-align: right;\n",
       "    }\n",
       "</style>\n",
       "<table border=\"1\" class=\"dataframe\">\n",
       "  <thead>\n",
       "    <tr style=\"text-align: right;\">\n",
       "      <th></th>\n",
       "      <th>Genre</th>\n",
       "      <th>Total_Purchases</th>\n",
       "      <th>Total_Revenue</th>\n",
       "      <th>Avg_Price</th>\n",
       "    </tr>\n",
       "  </thead>\n",
       "  <tbody>\n",
       "    <tr>\n",
       "      <th>0</th>\n",
       "      <td>Romance</td>\n",
       "      <td>560</td>\n",
       "      <td>11363.68</td>\n",
       "      <td>20.29</td>\n",
       "    </tr>\n",
       "    <tr>\n",
       "      <th>1</th>\n",
       "      <td>Romantasy</td>\n",
       "      <td>48</td>\n",
       "      <td>1348.32</td>\n",
       "      <td>28.09</td>\n",
       "    </tr>\n",
       "    <tr>\n",
       "      <th>2</th>\n",
       "      <td>Dark Romance</td>\n",
       "      <td>80</td>\n",
       "      <td>1315.84</td>\n",
       "      <td>16.45</td>\n",
       "    </tr>\n",
       "    <tr>\n",
       "      <th>3</th>\n",
       "      <td>Paranormal Romance</td>\n",
       "      <td>80</td>\n",
       "      <td>694.08</td>\n",
       "      <td>8.68</td>\n",
       "    </tr>\n",
       "    <tr>\n",
       "      <th>4</th>\n",
       "      <td>Contemporary Fiction</td>\n",
       "      <td>16</td>\n",
       "      <td>355.04</td>\n",
       "      <td>22.19</td>\n",
       "    </tr>\n",
       "    <tr>\n",
       "      <th>5</th>\n",
       "      <td>Literary Fiction</td>\n",
       "      <td>16</td>\n",
       "      <td>151.04</td>\n",
       "      <td>9.44</td>\n",
       "    </tr>\n",
       "  </tbody>\n",
       "</table>\n",
       "</div>"
      ],
      "text/plain": [
       "                  Genre  Total_Purchases  Total_Revenue  Avg_Price\n",
       "0               Romance              560       11363.68      20.29\n",
       "1             Romantasy               48        1348.32      28.09\n",
       "2          Dark Romance               80        1315.84      16.45\n",
       "3    Paranormal Romance               80         694.08       8.68\n",
       "4  Contemporary Fiction               16         355.04      22.19\n",
       "5      Literary Fiction               16         151.04       9.44"
      ]
     },
     "execution_count": 174,
     "metadata": {},
     "output_type": "execute_result"
    }
   ],
   "source": [
    "df_genre_sales = pd.read_sql_query(\"\"\"\n",
    "\n",
    "SELECT b.genre,\n",
    "       COUNT(p.purchase_id) AS Total_Purchases,\n",
    "       ROUND(SUM(b.price), 2) AS Total_Revenue,\n",
    "       ROUND(AVG(b.price), 2) AS Avg_Price\n",
    "FROM Books b\n",
    "JOIN Purchases p ON b.book_id = p.book_id\n",
    "GROUP BY b.genre\n",
    "ORDER BY total_revenue DESC;\n",
    "\n",
    "\"\"\", conn)\n",
    "\n",
    "df_genre_sales"
   ]
  },
  {
   "cell_type": "markdown",
   "id": "a99b2d3a",
   "metadata": {},
   "source": [
    "This query joins the Purchase and Books table to analyze the total purchases and revenue by genre. \n",
    "\n",
    "\n",
    "This helps identify which genres drive the store’s profits and where marketing efforts might need to be focused."
   ]
  },
  {
   "cell_type": "code",
   "execution_count": 150,
   "id": "6cbde41a",
   "metadata": {
    "scrolled": false
   },
   "outputs": [
    {
     "data": {
      "image/png": "[encoded data removed]",
      "text/plain": [
       "<Figure size 800x500 with 1 Axes>"
      ]
     },
     "metadata": {},
     "output_type": "display_data"
    }
   ],
   "source": [
    "font1 = {'family': 'Helvetica', 'size': 23}\n",
    "font2 = {'family': 'Helvetica', 'size': 14}\n",
    "plt.figure(figsize=(8,5))\n",
    "plt.bar(df_genre_sales[\"Genre\"], df_genre_sales[\"total_revenue\"], color = 'teal')\n",
    "plt.title(\"Total Revenue by Genre\", fontdict = font1)\n",
    "plt.xlabel(\"Genre\", fontdict = font2)\n",
    "plt.ylabel(\"Revenue ($)\", fontdict = font2)\n",
    "plt.xticks(rotation=45)\n",
    "plt.ylim(0, 15000)\n",
    "\n",
    "#adding value labels above each bar\n",
    "plt.text(0, 11600, '$11,363.68', ha = 'center')\n",
    "plt.text(1, 1500, '$1,348.32', ha = 'center')\n",
    "plt.text(2, 1500, '$1315.84', ha = 'center')\n",
    "plt.text(3, 1000, '$694.08', ha = 'center')\n",
    "plt.text(4, 600, '$355.04', ha = 'center')\n",
    "plt.text(5, 400, '$151.04', ha = 'center')\n",
    "\n",
    "plt.show()"
   ]
  },
  {
   "cell_type": "markdown",
   "id": "797b5214",
   "metadata": {},
   "source": [
    "Takeway: Romance and its sub genre Dark Romance and Paranormal Romance dominate both total purchase count and total \n",
    "revenue which indicates a strong customer preference and a repeat interest in these genres.  \n",
    "\n",
    "Niche categories such as Contemporary and Literary Fiction underperform which suggest the potential for either \n",
    "targeted marketing or promotional bundles."
   ]
  },
  {
   "cell_type": "markdown",
   "id": "29f1c7df",
   "metadata": {},
   "source": [
    "## Question #2: How do sales and pricing differ between Paperback, eBook, and Hardcover formats?"
   ]
  },
  {
   "cell_type": "code",
   "execution_count": 175,
   "id": "fdee7819",
   "metadata": {},
   "outputs": [
    {
     "data": {
      "text/html": [
       "<div>\n",
       "<style scoped>\n",
       "    .dataframe tbody tr th:only-of-type {\n",
       "        vertical-align: middle;\n",
       "    }\n",
       "\n",
       "    .dataframe tbody tr th {\n",
       "        vertical-align: top;\n",
       "    }\n",
       "\n",
       "    .dataframe thead th {\n",
       "        text-align: right;\n",
       "    }\n",
       "</style>\n",
       "<table border=\"1\" class=\"dataframe\">\n",
       "  <thead>\n",
       "    <tr style=\"text-align: right;\">\n",
       "      <th></th>\n",
       "      <th>Format</th>\n",
       "      <th>Total_Purchases</th>\n",
       "      <th>Total_Revenue</th>\n",
       "      <th>Avg_Price</th>\n",
       "    </tr>\n",
       "  </thead>\n",
       "  <tbody>\n",
       "    <tr>\n",
       "      <th>0</th>\n",
       "      <td>Paperback</td>\n",
       "      <td>432</td>\n",
       "      <td>8570.24</td>\n",
       "      <td>19.84</td>\n",
       "    </tr>\n",
       "    <tr>\n",
       "      <th>1</th>\n",
       "      <td>eBook</td>\n",
       "      <td>288</td>\n",
       "      <td>4480.00</td>\n",
       "      <td>15.56</td>\n",
       "    </tr>\n",
       "    <tr>\n",
       "      <th>2</th>\n",
       "      <td>Hardcover</td>\n",
       "      <td>80</td>\n",
       "      <td>2177.76</td>\n",
       "      <td>27.22</td>\n",
       "    </tr>\n",
       "  </tbody>\n",
       "</table>\n",
       "</div>"
      ],
      "text/plain": [
       "      Format  Total_Purchases  Total_Revenue  Avg_Price\n",
       "0  Paperback              432        8570.24      19.84\n",
       "1      eBook              288        4480.00      15.56\n",
       "2  Hardcover               80        2177.76      27.22"
      ]
     },
     "execution_count": 175,
     "metadata": {},
     "output_type": "execute_result"
    }
   ],
   "source": [
    "df_format = pd.read_sql_query(\"\"\"\n",
    "\n",
    "SELECT format,\n",
    "       COUNT(p.purchase_id) AS Total_Purchases,\n",
    "       ROUND(SUM(b.price), 2) AS Total_Revenue,\n",
    "       ROUND(AVG(b.price), 2) AS Avg_Price\n",
    "FROM Books b\n",
    "JOIN Purchases p ON b.book_id = p.book_id\n",
    "GROUP BY format\n",
    "ORDER BY total_revenue DESC;\n",
    "\n",
    "\"\"\", conn)\n",
    "\n",
    "df_format"
   ]
  },
  {
   "cell_type": "markdown",
   "id": "df96e408",
   "metadata": {},
   "source": [
    "This query compares total purchases, the average price of books, and total revenue by book format.  \n",
    "\n",
    "It helps determine which format performs best in terms of both sales volume and revenue contribution."
   ]
  },
  {
   "cell_type": "code",
   "execution_count": 145,
   "id": "ade15b93",
   "metadata": {},
   "outputs": [
    {
     "data": {
      "image/png": "[encoded data removed]",
      "text/plain": [
       "<Figure size 640x480 with 1 Axes>"
      ]
     },
     "metadata": {},
     "output_type": "display_data"
    }
   ],
   "source": [
    "font1 = {'family': 'Helvetica', 'size': 23}\n",
    "font2 = {'family': 'Helvetica', 'size': 14}\n",
    "plt.bar(df_format[\"Format\"], df_format[\"total_revenue\"], color='teal')\n",
    "plt.title(\"Revenue by Book Format\", fontdict = font1)\n",
    "plt.xlabel(\"Format\", fontdict = font2)\n",
    "plt.ylabel(\"Revenue ($)\", fontdict = font2)\n",
    "\n",
    "#adding value labels above each bar\n",
    "plt.text(0, 8650, '$8570.24', ha = 'center')\n",
    "plt.text(1, 4600, '$4480.00', ha = 'center')\n",
    "plt.text(2, 2300 ,'$2177.76', ha = 'center')\n",
    "plt.show()"
   ]
  },
  {
   "cell_type": "markdown",
   "id": "8df71409",
   "metadata": {},
   "source": [
    "Takeaway: Paperbacks lead in revenue and sales volume, accounting for nearly half of all purchases. \n",
    "\n",
    "Ebooks perform well in volume but contribute less revenue due to lower pricing which suggests a high demand for this format but the price margin may be low.\n",
    "\n",
    "Hardcovers are the least purchased book format even though it has the highest average price. \n",
    "\n",
    "The store may want to maintain strong eBook promotions to keep engagement high to gain more purchases in this format while developing targeted campaigns for Hardcover buyers. They can offer limited-edition Hardcover bundles so customers will be inclined to purchase books in this format before the offer ends or the books sell out."
   ]
  },
  {
   "cell_type": "markdown",
   "id": "04826ff4",
   "metadata": {},
   "source": [
    "## Question # 3: Which authors contribute most to overall revenue and sales?"
   ]
  },
  {
   "cell_type": "code",
   "execution_count": 176,
   "id": "318c0ba3",
   "metadata": {},
   "outputs": [
    {
     "data": {
      "text/html": [
       "<div>\n",
       "<style scoped>\n",
       "    .dataframe tbody tr th:only-of-type {\n",
       "        vertical-align: middle;\n",
       "    }\n",
       "\n",
       "    .dataframe tbody tr th {\n",
       "        vertical-align: top;\n",
       "    }\n",
       "\n",
       "    .dataframe thead th {\n",
       "        text-align: right;\n",
       "    }\n",
       "</style>\n",
       "<table border=\"1\" class=\"dataframe\">\n",
       "  <thead>\n",
       "    <tr style=\"text-align: right;\">\n",
       "      <th></th>\n",
       "      <th>Author</th>\n",
       "      <th>Total_Purchases</th>\n",
       "      <th>Total_Revenue</th>\n",
       "    </tr>\n",
       "  </thead>\n",
       "  <tbody>\n",
       "    <tr>\n",
       "      <th>0</th>\n",
       "      <td>Ana Huang</td>\n",
       "      <td>64</td>\n",
       "      <td>1418.08</td>\n",
       "    </tr>\n",
       "    <tr>\n",
       "      <th>1</th>\n",
       "      <td>Helen Hoang</td>\n",
       "      <td>64</td>\n",
       "      <td>1349.12</td>\n",
       "    </tr>\n",
       "    <tr>\n",
       "      <th>2</th>\n",
       "      <td>M.  James</td>\n",
       "      <td>48</td>\n",
       "      <td>1250.40</td>\n",
       "    </tr>\n",
       "    <tr>\n",
       "      <th>3</th>\n",
       "      <td>Alexis  Hall</td>\n",
       "      <td>48</td>\n",
       "      <td>1230.24</td>\n",
       "    </tr>\n",
       "    <tr>\n",
       "      <th>4</th>\n",
       "      <td>Carissa Broadbent</td>\n",
       "      <td>32</td>\n",
       "      <td>912.00</td>\n",
       "    </tr>\n",
       "    <tr>\n",
       "      <th>5</th>\n",
       "      <td>Ivy Fairbanks</td>\n",
       "      <td>32</td>\n",
       "      <td>897.60</td>\n",
       "    </tr>\n",
       "    <tr>\n",
       "      <th>6</th>\n",
       "      <td>S.J. Tilly</td>\n",
       "      <td>32</td>\n",
       "      <td>793.12</td>\n",
       "    </tr>\n",
       "    <tr>\n",
       "      <th>7</th>\n",
       "      <td>Alexa  Martin</td>\n",
       "      <td>32</td>\n",
       "      <td>682.88</td>\n",
       "    </tr>\n",
       "    <tr>\n",
       "      <th>8</th>\n",
       "      <td>Elizabeth Acevedo</td>\n",
       "      <td>16</td>\n",
       "      <td>474.40</td>\n",
       "    </tr>\n",
       "    <tr>\n",
       "      <th>9</th>\n",
       "      <td>Emily Henry</td>\n",
       "      <td>32</td>\n",
       "      <td>471.36</td>\n",
       "    </tr>\n",
       "  </tbody>\n",
       "</table>\n",
       "</div>"
      ],
      "text/plain": [
       "              Author  Total_Purchases  Total_Revenue\n",
       "0          Ana Huang               64        1418.08\n",
       "1        Helen Hoang               64        1349.12\n",
       "2          M.  James               48        1250.40\n",
       "3       Alexis  Hall               48        1230.24\n",
       "4  Carissa Broadbent               32         912.00\n",
       "5      Ivy Fairbanks               32         897.60\n",
       "6         S.J. Tilly               32         793.12\n",
       "7      Alexa  Martin               32         682.88\n",
       "8  Elizabeth Acevedo               16         474.40\n",
       "9        Emily Henry               32         471.36"
      ]
     },
     "execution_count": 176,
     "metadata": {},
     "output_type": "execute_result"
    }
   ],
   "source": [
    "df_author_sales = pd.read_sql_query(\"\"\"\n",
    "\n",
    "SELECT b.author,\n",
    "       COUNT(p.purchase_id) AS Total_Purchases,\n",
    "       ROUND(SUM(b.price), 2) AS Total_Revenue\n",
    "FROM Books b\n",
    "JOIN Purchases p ON b.book_id = p.book_id\n",
    "GROUP BY b.author\n",
    "ORDER BY total_revenue DESC\n",
    "LIMIT 10;\n",
    "\n",
    "\"\"\", conn)\n",
    "\n",
    "df_author_sales"
   ]
  },
  {
   "cell_type": "markdown",
   "id": "240b1fc2",
   "metadata": {},
   "source": [
    "This analysis identifies the top-performing authors by total revenue and total purchase. This gives insight to what\n",
    "authors customers gravitate to and what genre they read most."
   ]
  },
  {
   "cell_type": "code",
   "execution_count": 102,
   "id": "7ffd8d73",
   "metadata": {},
   "outputs": [
    {
     "data": {
      "image/png": "[encoded data removed]",
      "text/plain": [
       "<Figure size 640x480 with 1 Axes>"
      ]
     },
     "metadata": {},
     "output_type": "display_data"
    }
   ],
   "source": [
    "font1 = {'family': 'Helvetica', 'size': 23}\n",
    "font2 = {'family': 'Helvetica', 'size': 14}\n",
    "plt.barh(df_author_sales[\"Author\"], df_author_sales[\"total_revenue\"], color='teal')\n",
    "plt.title(\"Top 10 Authors by Revenue\", fontdict = font1)\n",
    "plt.xlabel(\"Revenue ($)\", fontdict = font2)\n",
    "plt.ylabel(\"Author\", fontdict = font2)\n",
    "plt.gca().invert_yaxis()\n",
    "\n",
    "#adding value labels above each bar\n",
    "plt.text(0, 8650, '$8570.24', ha = 'center')\n",
    "plt.text(1, 4600, '$4480.00', ha = 'center')\n",
    "plt.text(2, 2300 ,'$2177.76', ha = 'center')\n",
    "plt.show()"
   ]
  },
  {
   "cell_type": "markdown",
   "id": "a3507e3e",
   "metadata": {},
   "source": [
    "Takeaway: The top-performing authors account for a large portion of the revenue, which highlights room for creating\n",
    "collections and exclusive promotions that features bestselling authors."
   ]
  },
  {
   "cell_type": "markdown",
   "id": "7a8a6ec1",
   "metadata": {},
   "source": [
    "## Question #4: How do sales and revenue fluctuate over time?"
   ]
  },
  {
   "cell_type": "code",
   "execution_count": 177,
   "id": "27734b08",
   "metadata": {},
   "outputs": [
    {
     "data": {
      "text/html": [
       "<div>\n",
       "<style scoped>\n",
       "    .dataframe tbody tr th:only-of-type {\n",
       "        vertical-align: middle;\n",
       "    }\n",
       "\n",
       "    .dataframe tbody tr th {\n",
       "        vertical-align: top;\n",
       "    }\n",
       "\n",
       "    .dataframe thead th {\n",
       "        text-align: right;\n",
       "    }\n",
       "</style>\n",
       "<table border=\"1\" class=\"dataframe\">\n",
       "  <thead>\n",
       "    <tr style=\"text-align: right;\">\n",
       "      <th></th>\n",
       "      <th>Month</th>\n",
       "      <th>Total_Sales</th>\n",
       "      <th>Total_Revenue</th>\n",
       "    </tr>\n",
       "  </thead>\n",
       "  <tbody>\n",
       "    <tr>\n",
       "      <th>0</th>\n",
       "      <td>2025-01</td>\n",
       "      <td>176</td>\n",
       "      <td>3574.40</td>\n",
       "    </tr>\n",
       "    <tr>\n",
       "      <th>1</th>\n",
       "      <td>2025-02</td>\n",
       "      <td>160</td>\n",
       "      <td>3234.24</td>\n",
       "    </tr>\n",
       "    <tr>\n",
       "      <th>2</th>\n",
       "      <td>2025-03</td>\n",
       "      <td>112</td>\n",
       "      <td>1789.60</td>\n",
       "    </tr>\n",
       "    <tr>\n",
       "      <th>3</th>\n",
       "      <td>2025-04</td>\n",
       "      <td>144</td>\n",
       "      <td>2260.00</td>\n",
       "    </tr>\n",
       "    <tr>\n",
       "      <th>4</th>\n",
       "      <td>2025-05</td>\n",
       "      <td>112</td>\n",
       "      <td>2180.16</td>\n",
       "    </tr>\n",
       "    <tr>\n",
       "      <th>5</th>\n",
       "      <td>2025-06</td>\n",
       "      <td>96</td>\n",
       "      <td>2189.60</td>\n",
       "    </tr>\n",
       "  </tbody>\n",
       "</table>\n",
       "</div>"
      ],
      "text/plain": [
       "     Month  Total_Sales  Total_Revenue\n",
       "0  2025-01          176        3574.40\n",
       "1  2025-02          160        3234.24\n",
       "2  2025-03          112        1789.60\n",
       "3  2025-04          144        2260.00\n",
       "4  2025-05          112        2180.16\n",
       "5  2025-06           96        2189.60"
      ]
     },
     "execution_count": 177,
     "metadata": {},
     "output_type": "execute_result"
    }
   ],
   "source": [
    "df_monthly_sales = pd.read_sql_query(\"\"\"\n",
    "\n",
    "SELECT strftime('%Y-%m', p.purchased_date) AS Month,\n",
    "    COUNT(p.purchase_id) AS Total_Sales,\n",
    "    ROUND(SUM(b.price), 2) AS Total_Revenue\n",
    "FROM Purchases p\n",
    "JOIN Books b ON p.book_id = b.book_id\n",
    "GROUP BY month\n",
    "ORDER BY month;\n",
    "\n",
    "\"\"\", conn)\n",
    "\n",
    "df_monthly_sales"
   ]
  },
  {
   "cell_type": "markdown",
   "id": "0d519779",
   "metadata": {},
   "source": [
    "This analysis shows the total sales and total revenue for the bookstore for each month and whether the bookstore \n",
    "experienced growth or decline in sales."
   ]
  },
  {
   "cell_type": "code",
   "execution_count": 199,
   "id": "4471a323",
   "metadata": {},
   "outputs": [
    {
     "data": {
      "image/png": "[encoded data removed]",
      "text/plain": [
       "<Figure size 640x480 with 1 Axes>"
      ]
     },
     "metadata": {},
     "output_type": "display_data"
    }
   ],
   "source": [
    "font1 = {'family': 'Helvetica', 'size': 23}\n",
    "font2 = {'family': 'Helvetica', 'size': 14}\n",
    "plt.plot(df_monthly_sales[\"Month\"], df_monthly_sales[\"Total_Revenue\"], marker ='o', color='indigo')\n",
    "plt.title(\"Monthly Revenue Trend\", fontdict = font1)\n",
    "plt.xlabel(\"Month\", fontdict = font2)\n",
    "plt.ylabel(\"Revenue ($)\", fontdict = font2)\n",
    "plt.xticks(rotation=45)\n",
    "plt.grid(True)\n",
    "\n",
    "#add value labels for each point\n",
    "plt.text(0.1, 3574, '$3474.40', ha = 'left')\n",
    "plt.text(1.1, 3250, '$3234.24', ha = 'left')\n",
    "plt.text(2.1, 1789, '$1789.60', ha = 'left')\n",
    "plt.text(2.6, 2300, '$2260.00', ha = 'left')\n",
    "plt.text(2.6, 2300, '$2260.00', ha = 'left')\n",
    "plt.text(3.8, 2260, '$2180.16', ha = 'left')\n",
    "plt.text(4.5, 2090, '$2189.60', ha = 'left')\n",
    "\n",
    "plt.show()"
   ]
  },
  {
   "cell_type": "markdown",
   "id": "0de90540",
   "metadata": {},
   "source": [
    "Takeaway: Sales peaks at the beginning of the year in January but what follows is a steady decline in the middle of the year. \n",
    "\n",
    "Revenue follows the same pattern which suggest that both demand and spending decreases over time.\n",
    "\n",
    "The bookstore may be experiencing post-holiday spending, with lower engagement as the year progresses.  \n",
    "\n",
    "June maintained a slightly higher revenue per sale despite fewer total purchases, possibly due to higher-priced titles or more hardcover purchases."
   ]
  },
  {
   "cell_type": "markdown",
   "id": "e37ad47a",
   "metadata": {},
   "source": [
    "## Summary of Analysis from January to June 2025"
   ]
  },
  {
   "cell_type": "markdown",
   "id": "94740fae",
   "metadata": {},
   "source": [
    "### Genre Performance\n",
    "\n",
    "- Romance overwhelmingly leads all genres with 560 purchases and over $11,000 in revenue, showing consistent reader demand and strong profitability.  \n",
    "\n",
    "- Subgenres like Romantasy and Dark Romance perform well in average price and revenue per book, suggesting opportunities for higher-margin titles.\n",
    "\n",
    "- Romantasy, while having fewer total purchases (48), performs better in revenue compared to Paranormal Romance which is likely driven by its higher average price point. This suggests that while Romantasy appeals to a smaller group of readers, it attracts higher-value purchases.\n",
    "\n",
    "- To improve performance in lower-priced categories like Paranormal Romance, the bookstore could consider promoting these titles more aggressively to increase sales volume or experiment with slight price adjustments if demand remains steady.\n",
    "\n",
    "- Other genres such as Contemporary and Literary Fiction show lower engagement and could benefit from more targeted marketing or bundled offerings.\n"
   ]
  },
  {
   "cell_type": "markdown",
   "id": "cb59d001",
   "metadata": {},
   "source": [
    "### Book Format Performance\n",
    "\n",
    "- Paperbacks dominate in both purchases (432) and total revenue ($8,570.24).\n",
    "\n",
    "- Ebooks, while priced lower on average ($15.56), show steady sales and could be used to maintain customer engagement.  \n",
    "\n",
    "- Hardcovers are premium purchases which is the fewest in volume (80) but the highest average price ($27.22), showing potential for limited-edition or collector marketing."
   ]
  },
  {
   "cell_type": "markdown",
   "id": "e8bc0bd9",
   "metadata": {},
   "source": [
    "### Top Performing Authors\n",
    "\n",
    "- The top authors: Ana Huang, Helen Hoang, and M. James together generated over $4,000 in revenue, accounting for a significant share of sales.  \n",
    "\n",
    "- Romance-focused authors dominate the list, reinforcing the genre’s strong customer loyalty and demand.\n",
    "\n",
    "- Emerging authors like Carissa Broadbent and S.J. Tilly demonstrate mid-level engagement that could be expanded with promotional spotlights."
   ]
  },
  {
   "cell_type": "markdown",
   "id": "9de0ed65",
   "metadata": {},
   "source": [
    "### Monthly Sales Trends\n",
    "- Revenue peaked in January ($3,574.40) and declined steadily through March, then stabilized between April and June.  \n",
    "\n",
    "- Total revenue for the six-month period: ~$15,000, with 770 total purchases.  \n",
    "\n",
    "- The drop-off after Q1 suggests post-holiday seasonality or reduced promotional activity.  \n",
    "\n",
    "- Despite fewer sales in June, average revenue per purchase remained stable, indicating consistent pricing and reader interest."
   ]
  }
 ],
 "metadata": {
  "kernelspec": {
   "display_name": "Python 3 (ipykernel)",
   "language": "python",
   "name": "python3"
  },
  "language_info": {
   "codemirror_mode": {
    "name": "ipython",
    "version": 3
   },
   "file_extension": ".py",
   "mimetype": "text/x-python",
   "name": "python",
   "nbconvert_exporter": "python",
   "pygments_lexer": "ipython3",
   "version": "3.10.9"
  }
 },
 "nbformat": 4,
 "nbformat_minor": 5
}
